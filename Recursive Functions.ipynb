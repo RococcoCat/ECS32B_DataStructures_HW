{
 "cells": [
  {
   "cell_type": "code",
   "execution_count": 1,
   "id": "715bcaed",
   "metadata": {},
   "outputs": [],
   "source": [
    "def recursion(x):\n",
    "    if x == 0: # Base case\n",
    "        return True\n",
    "    else:\n",
    "        recursion(x-1) # function is called again"
   ]
  },
  {
   "cell_type": "markdown",
   "id": "91ffe2da",
   "metadata": {},
   "source": [
    "# Recursion\n",
    "- function that calls itself directly / indirectly\n",
    "- every recursive program can be written using iterative methods\n",
    "\n",
    "\n",
    "## 3 types:\n",
    "1. Head Recursion\n",
    "2. Tail Recursion\n",
    "3. Body Recursion\n",
    "\n",
    "- usually results in poor time complexity\n",
    "-  a few algorithms, (e.g. merge sort, quick sort, etc…) result in optimal time complexity using recursion.\n",
    "\n",
    "- Base case: \n",
    "    - critical req.\n",
    "    - termination point or base case.\n",
    "    \n",
    "- Different Ways of Writing Recursive Functions \n",
    "    - Direct\n",
    "    - Recursion using mutual function call: (Indirect way) \n",
    "    - least practical, a function [funA()] can call another function [funB()] which in turn calls [funA()] the former function. In this case, both the functions should have the base case.\n",
    "    \n",
    "    "
   ]
  },
  {
   "cell_type": "code",
   "execution_count": null,
   "id": "b01cfaa2",
   "metadata": {},
   "outputs": [],
   "source": [
    "# Recursion:\n",
    "# sum(1) = 0 + 1 = 1\n",
    "# sum(5) = 0 + 1 + 2 + 3 + 4 + 5 = 15\n",
    "\n",
    "def sum(n)"
   ]
  }
 ],
 "metadata": {
  "kernelspec": {
   "display_name": "Python 3 (ipykernel)",
   "language": "python",
   "name": "python3"
  },
  "language_info": {
   "codemirror_mode": {
    "name": "ipython",
    "version": 3
   },
   "file_extension": ".py",
   "mimetype": "text/x-python",
   "name": "python",
   "nbconvert_exporter": "python",
   "pygments_lexer": "ipython3",
   "version": "3.9.7"
  },
  "latex_envs": {
   "LaTeX_envs_menu_present": true,
   "autoclose": false,
   "autocomplete": true,
   "bibliofile": "biblio.bib",
   "cite_by": "apalike",
   "current_citInitial": 1,
   "eqLabelWithNumbers": true,
   "eqNumInitial": 1,
   "hotkeys": {
    "equation": "Ctrl-E",
    "itemize": "Ctrl-I"
   },
   "labels_anchors": false,
   "latex_user_defs": false,
   "report_style_numbering": false,
   "user_envs_cfg": false
  }
 },
 "nbformat": 4,
 "nbformat_minor": 5
}
