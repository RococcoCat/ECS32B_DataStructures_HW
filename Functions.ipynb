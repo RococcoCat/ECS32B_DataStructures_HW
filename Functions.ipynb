{
 "cells": [
  {
   "cell_type": "markdown",
   "id": "9b0b14fc",
   "metadata": {},
   "source": [
    "# Function Decorators\n",
    "- can def. func inside another func\n",
    "- func can be passed as parameter to another func\n",
    "- func can also return another func\n",
    "\n",
    "- <span class=\"mark\">Decorator</span>:\n",
    "    - func that takes a func as its only parameter and returns a func\n",
    "    - helpful to 'wrap' funcionality w/ same code over and over again\n",
    "    - @func_name to specify a decorator to be applied on another function\n",
    "    - useful to attach data ( / add attribute to func)\n",
    "    \n",
    "- ex: add(2,3) would just give sum of 2 #s\n",
    "- add.data: `add` func passed into decorator func `attach_data` as argument, \n",
    "    - func returns `add` func w/ attribute data set to 3, then primts\n",
    "- removes redundancy"
   ]
  },
  {
   "cell_type": "code",
   "execution_count": null,
   "id": "866e22c8",
   "metadata": {},
   "outputs": [],
   "source": [
    "# Adds a welcome message to the string\n",
    "# returned by fun(). Takes fun() as\n",
    "# parameter and returns welcome().\n",
    "def decorate_message(fun):\n",
    "  \n",
    "    # Nested function\n",
    "    def addWelcome(site_name):\n",
    "        return \"Welcome to \" + fun(site_name)\n",
    "  \n",
    "    # Decorator returns a function\n",
    "    return addWelcome\n",
    "  \n",
    "@decorate_message\n",
    "def site(site_name):\n",
    "    return site_name;\n",
    "  \n",
    "# Driver code\n",
    "  \n",
    "# This call is equivalent to call to\n",
    "# decorate_message() with function\n",
    "# site(\"GeeksforGeeks\") as parameter\n",
    "print site(\"GeeksforGeeks\")\n",
    "\n",
    "# Output = Welcome to GeeksforGeeks\n"
   ]
  }
 ],
 "metadata": {
  "kernelspec": {
   "display_name": "Python 3 (ipykernel)",
   "language": "python",
   "name": "python3"
  },
  "language_info": {
   "codemirror_mode": {
    "name": "ipython",
    "version": 3
   },
   "file_extension": ".py",
   "mimetype": "text/x-python",
   "name": "python",
   "nbconvert_exporter": "python",
   "pygments_lexer": "ipython3",
   "version": "3.9.7"
  },
  "latex_envs": {
   "LaTeX_envs_menu_present": true,
   "autoclose": false,
   "autocomplete": true,
   "bibliofile": "biblio.bib",
   "cite_by": "apalike",
   "current_citInitial": 1,
   "eqLabelWithNumbers": true,
   "eqNumInitial": 1,
   "hotkeys": {
    "equation": "Ctrl-E",
    "itemize": "Ctrl-I"
   },
   "labels_anchors": false,
   "latex_user_defs": false,
   "report_style_numbering": false,
   "user_envs_cfg": false
  }
 },
 "nbformat": 4,
 "nbformat_minor": 5
}
