{
 "cells": [
  {
   "cell_type": "markdown",
   "id": "fed87478",
   "metadata": {},
   "source": [
    "# Hash Map\n",
    "- indexed data structure\n",
    "- uses a hash function to compute index w/ key into an array of buckets / slots\n",
    "- value mapped to bucket w/ corresponding index\n",
    "- key: unique and immutable\n",
    "\n",
    "- __hash function__\n",
    "    - takes key and translates it to the index of a bucket\n",
    "    - ideally: should prod a diff index for each key\n",
    "    - collisions: when hashing gives an existing index\n",
    "    \n",
    "- Operations\n",
    "    - set_val(key, value): Inserts a key-value pair into the hash map. If the value already exists in the hash map, update the value.\n",
    "    - get_val(key): Returns the value to which the specified key is mapped, or “No record found” if this map contains no mapping for the key.\n",
    "    - delete_val(key): Removes the mapping for the specific key if the hash map contains the mapping for the key.\n",
    "    \n",
    "- Time complexity:\n",
    "    - search  : O(1)"
   ]
  },
  {
   "cell_type": "markdown",
   "id": "05bee455",
   "metadata": {},
   "source": [
    "# Hashing\n",
    "- arrays and linke lists: need to search linearly\n",
    "- sorted arrays: O(logn) : binary search\n",
    "- insert and delete are costly b/c need to maintain sorted\n",
    "\n",
    "- balanced binary search tree: moderate search, insert, and delete times\n",
    "    - guaranteed to be in O(logn)\n",
    "    \n",
    "- Direct access table\n",
    "    - array and seperate list of indices\n",
    "    - all operations: O(1)\n",
    "    - limitations: \n",
    "        - need extra space\n",
    "        - integer in programming language may not store n digits\n",
    "\n",
    "- Hashing\n",
    "    - O(1) search time on avg (worst case: O*n))\n",
    "    - Basic Operations\n",
    "        - HashTable: This operation is used in order to create a new hash table.\n",
    "        - Delete: This operation is used in order to delete a particular key-value pair from the hash table.\n",
    "        - Get: This operation is used in order to search a key inside the hash table and return the value that is associated with that key.\n",
    "        - Put: This operation is used in order to insert a new key-value pair inside the hash table.\n",
    "        - DeleteHashTable: This operation is used in order to delete the hash table\n",
    "        \n",
    "    - Components\n",
    "        - 1. Hash table: \n",
    "            - array that stores pointers to records \n",
    "            - entry is NIL if there's no key that has a hash function equal to the index for the entry\n",
    "        - 2. Hash Function\n",
    "            - function that converts a given key to a integer value\n",
    "            - mapped integervalue is used as an index in hash table\n",
    "            - perfect hash func: every key mapped into a unique slot index\n",
    "            - good hash function:\n",
    "                - 1. Efficiently computable. \n",
    "                - 2. Should uniformly distribute the keys (Each table position equally likely for each).\n",
    "                - 3. Should minimize collisions.\n",
    "                - 4. Should have a low load factor(number of items in table divided by size of the table).     \n",
    "        - 3. Collision handling\n",
    "            - possibility that 2 keys result in the same value\n",
    "            - collision: newly inserted key maps to an already occupied slot in hash table\n",
    "            - Solutions\n",
    "                - Chaining:\n",
    "                    - make each cell of hash table point to a linked list of records that have the same hash function value\n",
    "                    - req. more memory\n",
    "                - Open Addressing:\n",
    "                    - all elem stored in hash table\n",
    "                    - each table entry contains either record / NIL\n",
    "                    - when searching, examine slots until elem found / clear that the elem. not in the table\n",
    "                     \n",
    "                "
   ]
  },
  {
   "cell_type": "markdown",
   "id": "7c020a24",
   "metadata": {},
   "source": [
    "# Hash function:\n",
    "    - "
   ]
  }
 ],
 "metadata": {
  "kernelspec": {
   "display_name": "Python 3 (ipykernel)",
   "language": "python",
   "name": "python3"
  },
  "language_info": {
   "codemirror_mode": {
    "name": "ipython",
    "version": 3
   },
   "file_extension": ".py",
   "mimetype": "text/x-python",
   "name": "python",
   "nbconvert_exporter": "python",
   "pygments_lexer": "ipython3",
   "version": "3.9.7"
  },
  "latex_envs": {
   "LaTeX_envs_menu_present": true,
   "autoclose": false,
   "autocomplete": true,
   "bibliofile": "biblio.bib",
   "cite_by": "apalike",
   "current_citInitial": 1,
   "eqLabelWithNumbers": true,
   "eqNumInitial": 1,
   "hotkeys": {
    "equation": "Ctrl-E",
    "itemize": "Ctrl-I"
   },
   "labels_anchors": false,
   "latex_user_defs": false,
   "report_style_numbering": false,
   "user_envs_cfg": false
  }
 },
 "nbformat": 4,
 "nbformat_minor": 5
}
