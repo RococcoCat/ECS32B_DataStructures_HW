{
 "cells": [
  {
   "cell_type": "markdown",
   "id": "756337e5",
   "metadata": {},
   "source": [
    "https://www.geeksforgeeks.org/python-programming-language/?ref=ghm"
   ]
  },
  {
   "cell_type": "markdown",
   "id": "370674a9",
   "metadata": {},
   "source": [
    "https://www.geeksforgeeks.org/python3-intermediate-level-topics/\n",
    "# Classes\n",
    "- created by keyword class\n",
    "- attributes are var that belong to class\n",
    "- attributes are always public, accessed using dot (.) operator\n",
    "    - ie. myclass.myattribute\n",
    "    \n",
    "# Methods\n",
    "- code used to perform a particular task in python's code\n",
    "- func. belonging to a class\n",
    "- all methods req 'self' parameter\n",
    "    - unhides current instance variable\n",
    "- 'def' keyword used to create a new method\n",
    "\n",
    "# Inheritance\n",
    "- way in which a particular class inherits features from its base class\n",
    "    - base class = Superclass\n",
    "    - class that inherits from Superclass = Subclass\n",
    "- Derived class can inherit features from its base class, also it can define its own features too\n",
    "- inheriting ex:\n",
    "    "
   ]
  },
  {
   "cell_type": "code",
   "execution_count": 6,
   "id": "a0826e4e",
   "metadata": {},
   "outputs": [],
   "source": [
    "class Pet:\n",
    "        #__init__ is an constructor in Python\n",
    "        def __init__(self, name, age):     \n",
    "                self.name = name\n",
    "                self.age = age\n",
    "  \n",
    "# Class Cat inheriting from the class Pet\n",
    "class Cat(Pet):         \n",
    "        def __init__(self, name, age):\n",
    "                # calling the super-class function __init__ \n",
    "                # using the super() function\n",
    "                super().__init__(name, age)"
   ]
  },
  {
   "cell_type": "markdown",
   "id": "d094f2cb",
   "metadata": {},
   "source": [
    "# Iterators:\n",
    "- obj that can be iterated upon\n",
    "- `__iter__()` returns iterator obj of the class\n",
    "- `__next__()` : gets next item\n",
    "- for loops stops when StopIteration Exception raised"
   ]
  },
  {
   "cell_type": "code",
   "execution_count": 7,
   "id": "188abdf8",
   "metadata": {},
   "outputs": [
    {
     "name": "stdout",
     "output_type": "stream",
     "text": [
      "e\n",
      "l\n",
      "c\n",
      "i\n",
      "s\n",
      "p\n",
      "a\n",
      "r\n",
      "D\n",
      "\n"
     ]
    }
   ],
   "source": [
    "# This program will reverse the string that is passed\n",
    "# to it from the main function\n",
    "class Reverse:\n",
    "    def __init__(self, data):\n",
    "        self.data = data\n",
    "        self.index = len(data)        \n",
    "  \n",
    "    def __iter__(self):\n",
    "        return self\n",
    "      \n",
    "    def __next__(self):\n",
    "        if self.index == 0:\n",
    "            raise StopIteration    \n",
    "        self.index-= 1\n",
    "        return self.data[self.index]\n",
    "  \n",
    "def Main():\n",
    "    rev = Reverse('Drapsicle')\n",
    "    for char in rev:\n",
    "        print(char)\n",
    "  \n",
    "if __name__=='__main__':\n",
    "    Main()\n",
    "# Output:\n",
    "\"\"\"\n",
    "e\n",
    "l\n",
    "c\n",
    "i\n",
    "s\n",
    "p\n",
    "a\n",
    "r\n",
    "D\n",
    "\"\"\"\n",
    "print()"
   ]
  },
  {
   "cell_type": "markdown",
   "id": "a16f456c",
   "metadata": {},
   "source": [
    "# Generators:\n",
    "- another way of creating iterators\n",
    "- uses a func rather than seperate class\n",
    "- generates background code for next() and iter() methods\n",
    "- uses special statement: yield, saves state of generator and sets resume point for when next() is called again\n",
    "- ex: \n",
    "\n",
    "    `for index in range(len(data)-1, -1, -1):`\n",
    "        `yield data[index]`\n",
    "    - output = ['h', 's', 's', 'r', 'a', 'H']\n"
   ]
  },
  {
   "cell_type": "markdown",
   "id": "fdf0b546",
   "metadata": {},
   "source": [
    "# `__init__` vs `__main__`\n",
    "\n",
    "- `__init__.py` is run when you import a package into a running python program. \n",
    "    - import idlelib within a program, runs idlelib/__init__.py, which does not do anything as its only purpose is to mark the idlelib directory as a package\n",
    "    - On the otherhand, tkinter/__init__.py contains most of the tkinter code and defines all the widget classes.\n",
    "    - among other things, labels a directory as a python directory and lets you set variables on a package wide level.\n",
    "- `__main__.py`\n",
    "    - when you run a package as the main program\n",
    "    - python -m idlelib at a command line runs idlelib/__main__.py, which starts Idle. \n",
    "    - Similarly, python -m tkinter runs tkinter/__main__.py, which has this line:\n",
    "    `from . import _test as main`\n",
    "    - run if you try to run a compressed group of python files. __main__.py allows you to execute packages."
   ]
  },
  {
   "cell_type": "markdown",
   "id": "72e854ba",
   "metadata": {},
   "source": [
    "# OOPs concepts (Object oriented programming)\n",
    "- uses objects and classes\n",
    "- bind data and func that work together as a single unit\n",
    "\n",
    "### Class:\n",
    "- collection of obj\n",
    "- contains prototype from which obj are created\n",
    "- contains some attributes and methods\n",
    "### Objects\n",
    "- entity w/ state and behavior associated with it\n",
    "- consists of:\n",
    "    - state: rep by attributes\n",
    "    - behavior: methods, response of obj to other obj\n",
    "    - identity: unique name\n",
    "#### The self\n",
    "- class methods must have an extra first parameter in the method def.\n",
    "    - python provides it\n",
    "- even for a method w/ no arg., still have to have 1 arg.\n",
    "- (When we call a method of this object as myobject.method(arg1, arg2), this is automatically converted by Python into MyClass.method(myobject, arg1, arg2) – this is all the special self is about.)\n",
    "#### __init__ method\n",
    "- run as soon as an obj of a class is instantiated\n",
    "- ex: \n",
    "\n",
    "    `def __init__(self, name):`\n",
    "    \n",
    "        `self.name = name`\n",
    "#### Inheritance\n",
    "- transitive: if class B inherits from class A, all subclasses of B automatically inherit from A\n",
    "- Types:\n",
    "    - Single Inheritance: enables derived class to inherit char. from single-parent class\n",
    "    - Multilevel Inheritance: enables derived class to inherit properties from an immediate parent class which in turn inherits properties from its parent clas\n",
    "    - Hierarchical Inheritance\n",
    "        - enables >1 derived class to inherit from parent\n",
    "    - Multiple inheritance\n",
    "        - enables 1 derived class to inherit from >1 base class\n",
    "- ex:\n",
    "    - parent: `class Person(object):`\n",
    "    - child: `class Employee(Person):`\n",
    "- child class can also modify behavior of the parent class\n",
    "### Encapsulation\n",
    "- wrapping data and its methods w/in one unit\n",
    "- puts restrictions on accessing var. and methods directly (can prevent accidental mod of data)\n",
    "- obj. var can only be changed by an obj methods (var are private var)\n",
    "- class is ex of encapsulation\n",
    "    "
   ]
  },
  {
   "cell_type": "code",
   "execution_count": 8,
   "id": "635deded",
   "metadata": {},
   "outputs": [
    {
     "name": "stdout",
     "output_type": "stream",
     "text": [
      "GeeksforGeeks\n"
     ]
    }
   ],
   "source": [
    "# Python program to\n",
    "# demonstrate private members\n",
    " \n",
    "# Creating a Base class\n",
    "class Base:\n",
    "    def __init__(self):\n",
    "        self.a = \"GeeksforGeeks\"\n",
    "        self.__c = \"GeeksforGeeks\"\n",
    " \n",
    "# Creating a derived class\n",
    "class Derived(Base):\n",
    "    def __init__(self):\n",
    " \n",
    "        # Calling constructor of\n",
    "        # Base class\n",
    "        Base.__init__(self)\n",
    "        print(\"Calling private member of base class: \")\n",
    "        print(self.__c)\n",
    " \n",
    " \n",
    "# Driver code\n",
    "obj1 = Base()\n",
    "print(obj1.a)\n",
    " \n",
    "# Uncommenting print(obj1.c) will\n",
    "# raise an AttributeError\n",
    " \n",
    "# Uncommenting obj2 = Derived() will\n",
    "# also raise an AtrributeError as\n",
    "# private member of base class\n",
    "# is called inside derived class\n",
    "\n",
    "# created the c variable as the private attribute.\n",
    "# We cannot even access this attribute directly and can’t even change its value"
   ]
  },
  {
   "cell_type": "markdown",
   "id": "04a8d0e3",
   "metadata": {},
   "source": [
    "## Data Abstraction\n",
    "- hides unncessary code details from the user\n",
    "- protects sensitive parts of code implementation\n",
    "- can be achieved thru creating abstract classes\n",
    "\n",
    "### Data hiding\n",
    "- use `__` before attribute name so those attributes won't be directly visible\n",
    "    - ex:\n",
    "        - `__hiddenVariable = 0` ; hidden \n",
    "        -  A member method that changes __hiddenVariable \n",
    "        - `def add(self, increment):`\n",
    "        -    `self.__hiddenVariable += increment`\n",
    "             `print (self.__hiddenVariable)`\n",
    "        - error: `print (myObject.__hiddenVariable)`\n",
    "- private methods are accessible outside their class, just not easily\n",
    "### Printing Objects\n",
    "- ` __repr__` or` __str__` methods.\n",
    "- If no __str__ method is defined, print t (or print str(t)) uses __repr__. \n",
    "- If no __repr__ method is defined then the default is used. \n"
   ]
  },
  {
   "cell_type": "code",
   "execution_count": 9,
   "id": "35abf21a",
   "metadata": {},
   "outputs": [
    {
     "name": "stdout",
     "output_type": "stream",
     "text": [
      "From str method of Test: a is 1234,b is 5678\n",
      "[Test a:1234 b:5678]\n"
     ]
    }
   ],
   "source": [
    "class Test:\n",
    "    def __init__(self, a, b):\n",
    "        self.a = a\n",
    "        self.b = b\n",
    "  \n",
    "    def __repr__(self):\n",
    "        return \"Test a:%s b:%s\" % (self.a, self.b)\n",
    "  \n",
    "    def __str__(self):\n",
    "        return \"From str method of Test: a is %s,\" \\\n",
    "              \"b is %s\" % (self.a, self.b)\n",
    "  \n",
    "# Driver Code        \n",
    "t = Test(1234, 5678)\n",
    "print(t) # This calls __str__()\n",
    "print([t]) # This calls __repr__()"
   ]
  },
  {
   "cell_type": "markdown",
   "id": "ba1d0894",
   "metadata": {},
   "source": [
    "- one major adv of OOP is re-use\n",
    "- `issubclass()` : tells us if a class is subclass of another class\n",
    "- object is root of all classes\n",
    "- python3: “class Test(object)” and “class Test” are same.\n",
    "- python supports multiple inheritance: specify all parent classes as comma separated list in bracket\n",
    "    - ex: `class Derived(Base1, Base2):`\n",
    "- Accessing parent members in a subclass:\n",
    "    1. Using Parent class name\n",
    "        - ex: `Base.x = x`\n",
    "    2. using super()\n",
    "        - In Python 3.x, \"super().__init__(name)\"\n",
    "            also works\n",
    "        - `super(Derived, self).__init__(x)`\n",
    "    - 2 methods not exactly the same"
   ]
  },
  {
   "cell_type": "markdown",
   "id": "fe3ceab3",
   "metadata": {},
   "source": [
    "# Class method vs Static method\n",
    "## Class method:\n",
    "- @classmethod decorator is a built in func decorator:\n",
    "    - exp that gets evaluated after func is def.\n",
    "    - result of that eval shadows func def\n",
    "- class method receives the class as an implicit first arg\n",
    "\n",
    "class C(object):\n",
    "\n",
    "    @classmethod\n",
    "    \n",
    "    def fun(cls, arg1, arg2, ...):\n",
    "       ....\n",
    "       \n",
    "fun: function that needs to be converted into a class method\n",
    "\n",
    "returns: a class method for function.\n",
    "\n",
    "- A class method is a method that is bound to the class and not the object of the class.\n",
    "- have access to state of class and takes class param that points to class and not obj instance\n",
    "- can modify a class state that would ally across all instances of the class\n",
    "\n",
    "\n",
    "## Static Method\n",
    "- does not receive implicit first arg\n",
    "- method bound to class and not obj of the class\n",
    "- can't access / modify class state\n",
    "- present in class b/c it makes sense for the method to be present in class"
   ]
  },
  {
   "cell_type": "code",
   "execution_count": null,
   "id": "788f01ba",
   "metadata": {},
   "outputs": [],
   "source": []
  },
  {
   "cell_type": "code",
   "execution_count": null,
   "id": "7c95baff",
   "metadata": {},
   "outputs": [],
   "source": []
  }
 ],
 "metadata": {
  "kernelspec": {
   "display_name": "Python 3 (ipykernel)",
   "language": "python",
   "name": "python3"
  },
  "language_info": {
   "codemirror_mode": {
    "name": "ipython",
    "version": 3
   },
   "file_extension": ".py",
   "mimetype": "text/x-python",
   "name": "python",
   "nbconvert_exporter": "python",
   "pygments_lexer": "ipython3",
   "version": "3.9.7"
  },
  "latex_envs": {
   "LaTeX_envs_menu_present": true,
   "autoclose": false,
   "autocomplete": true,
   "bibliofile": "biblio.bib",
   "cite_by": "apalike",
   "current_citInitial": 1,
   "eqLabelWithNumbers": true,
   "eqNumInitial": 1,
   "hotkeys": {
    "equation": "Ctrl-E",
    "itemize": "Ctrl-I"
   },
   "labels_anchors": false,
   "latex_user_defs": false,
   "report_style_numbering": false,
   "user_envs_cfg": false
  }
 },
 "nbformat": 4,
 "nbformat_minor": 5
}
