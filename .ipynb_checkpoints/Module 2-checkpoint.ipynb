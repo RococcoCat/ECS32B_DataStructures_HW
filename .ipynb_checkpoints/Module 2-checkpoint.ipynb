{
 "cells": [
  {
   "cell_type": "code",
   "execution_count": 1,
   "id": "46630156",
   "metadata": {},
   "outputs": [
    {
     "ename": "SyntaxError",
     "evalue": "invalid syntax (Temp/ipykernel_8024/925997259.py, line 2)",
     "output_type": "error",
     "traceback": [
      "\u001b[1;36m  File \u001b[1;32m\"C:\\Users\\bunan\\AppData\\Local\\Temp/ipykernel_8024/925997259.py\"\u001b[1;36m, line \u001b[1;32m2\u001b[0m\n\u001b[1;33m    - linear data structures\u001b[0m\n\u001b[1;37m             ^\u001b[0m\n\u001b[1;31mSyntaxError\u001b[0m\u001b[1;31m:\u001b[0m invalid syntax\n"
     ]
    }
   ],
   "source": [
    "# Linear Structures\n",
    "- linear data structures\n",
    "    - A class of data structure that implement some contiguous arrangement for its elements.\n",
    "    - Elements are stored sequentially based on insertion and removal.    \n",
    "- Collection ADT (python)\n",
    "    - data stored in some matter\n",
    "    - __getitem__(index)' retrieves the value at index of collection.\n",
    "        - arr[index]\n",
    "    - __setitem__(value, index) adds a new value to the collection at index.\n",
    "    - append(value) adds new element with value to the next open slot.\n",
    "    - extend(collection) appends the items in the collection to the next open slots.\n",
    "    - remove(value) removes the value from the collection.\n",
    "    - __delitem__(index) removes the value at index from the collection\n",
    "        - del arr[index]\n",
    "    - size() returns the number of items in the collection.\n",
    "    - __len__() returns the total number of space available in the collection.\n",
    "    \n",
    "- Unordered collection ADTs\n",
    "    - extends collection ADT\n",
    "    - Elements are stored in a collection without any special inherent ordering\n",
    "        - i.e. An unsorted list\n",
    "    - Operations are extended from parent ADT\n",
    "        - But each operation must respect the ordering property\n",
    "\n",
    "- Data Types\n",
    "    - homogenous collections\n",
    "        - only holds one type of data\n",
    "    - heterogenous collections\n",
    "        - can hold more than one type of data\n",
    "        - more in other programming languages\n",
    "    - pros and cons?\n",
    "        - flexible\n",
    "        - overhead\n",
    "        - design decisions\n",
    "        - more difficult to implement\n",
    "\n",
    "- Set\n",
    "    - imposes constraint\n",
    "        - each element of collection must have unique value\n",
    "        - no duplicates\n",
    "        \n",
    "        \n",
    "- priority comes before ordering\n",
    "- if priority the same, ordering determines who's removed\n",
    "\n",
    "- arrays have to be fixed size and homogenous so we know how much memory to allocate\n",
    "- can retrieve and modify quickly\n",
    "\n",
    "    \n",
    "- __method__\n",
    "    - special method\n",
    "    - "
   ]
  },
  {
   "cell_type": "code",
   "execution_count": null,
   "id": "2959ebea",
   "metadata": {},
   "outputs": [],
   "source": []
  }
 ],
 "metadata": {
  "kernelspec": {
   "display_name": "Python 3 (ipykernel)",
   "language": "python",
   "name": "python3"
  },
  "language_info": {
   "codemirror_mode": {
    "name": "ipython",
    "version": 3
   },
   "file_extension": ".py",
   "mimetype": "text/x-python",
   "name": "python",
   "nbconvert_exporter": "python",
   "pygments_lexer": "ipython3",
   "version": "3.9.7"
  },
  "latex_envs": {
   "LaTeX_envs_menu_present": true,
   "autoclose": false,
   "autocomplete": true,
   "bibliofile": "biblio.bib",
   "cite_by": "apalike",
   "current_citInitial": 1,
   "eqLabelWithNumbers": true,
   "eqNumInitial": 1,
   "hotkeys": {
    "equation": "Ctrl-E",
    "itemize": "Ctrl-I"
   },
   "labels_anchors": false,
   "latex_user_defs": false,
   "report_style_numbering": false,
   "user_envs_cfg": false
  }
 },
 "nbformat": 4,
 "nbformat_minor": 5
}
